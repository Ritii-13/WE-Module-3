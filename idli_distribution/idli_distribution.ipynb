{
  "nbformat": 4,
  "nbformat_minor": 0,
  "metadata": {
    "colab": {
      "provenance": []
    },
    "kernelspec": {
      "name": "python3",
      "display_name": "Python 3"
    },
    "language_info": {
      "name": "python"
    }
  },
  "cells": [
    {
      "cell_type": "code",
      "execution_count": 6,
      "metadata": {
        "colab": {
          "base_uri": "https://localhost:8080/"
        },
        "id": "9-rAmc_oLSZC",
        "outputId": "16367b2e-973f-49f5-8215-ca5ab0fec4e1"
      },
      "outputs": [
        {
          "output_type": "stream",
          "name": "stdout",
          "text": [
            "4\n"
          ]
        }
      ],
      "source": [
        "def oe(n: int) -> str:\n",
        "    return 'o' if n % 2 == 1 else 'e'\n",
        "\n",
        "def distributeA(idlis: list[int]) -> int:\n",
        "    if sum(idlis) % 2 == 1:\n",
        "        return -1\n",
        "    queue = ''.join([oe(_) for _ in idlis])\n",
        "    return distributeB(queue)\n",
        "\n",
        "def distributeB(queue: str) -> int:\n",
        "    if len(queue) < 2:\n",
        "        return 0\n",
        "    if queue[:2] == 'ee':\n",
        "        return distributeB(queue[2:])\n",
        "    if queue[:2] == 'oo':\n",
        "        return 2 + distributeB(queue[2:])\n",
        "    if queue[0] == 'e':\n",
        "        return distributeB(queue[1:])\n",
        "    else:\n",
        "        return 2 + distributeB('o' + queue[2:])\n",
        "\n",
        "idlis = [3, 4, 7]\n",
        "print(distributeA(idlis))  # Output: 4\n"
      ]
    },
    {
      "cell_type": "code",
      "source": [
        "#iterative approach\n",
        "\n",
        "def distribute_idlis_iterative(idlis):\n",
        "    # Define the oe function\n",
        "    def oe(n):\n",
        "        return 'o' if n % 2 == 1 else 'e'\n",
        "\n",
        "    # Check if the sum of idlis is odd\n",
        "    if sum(idlis) % 2 == 1:\n",
        "        return -1\n",
        "\n",
        "    # Initialize the queue string\n",
        "    queue = ''.join([oe(_) for _ in idlis])\n",
        "    total_idlis = 0\n",
        "\n",
        "    # Iterate through the queue string\n",
        "    while len(queue) >= 2:\n",
        "        if queue[:2] == 'ee':\n",
        "            queue = queue[2:]\n",
        "        elif queue[:2] == 'oo':\n",
        "            total_idlis += 2\n",
        "            queue = queue[2:]\n",
        "        elif queue[0] == 'e':\n",
        "            queue = queue[1:]\n",
        "        else:\n",
        "            total_idlis += 2\n",
        "            queue = 'o' + queue[2:]\n",
        "\n",
        "    # Check if the last person has an odd number of idlis\n",
        "    if queue == 'o':\n",
        "        return -1\n",
        "\n",
        "    return total_idlis\n",
        "\n",
        "# Example usage:\n",
        "idlis = [3, 4, 7]\n",
        "print(distribute_idlis_iterative(idlis))  # Output: 4\n"
      ],
      "metadata": {
        "colab": {
          "base_uri": "https://localhost:8080/"
        },
        "id": "4c47wTAQMsTh",
        "outputId": "8b4d4f2d-37c8-41a7-af3f-74912f4c64b3"
      },
      "execution_count": 8,
      "outputs": [
        {
          "output_type": "stream",
          "name": "stdout",
          "text": [
            "4\n"
          ]
        }
      ]
    },
    {
      "cell_type": "code",
      "source": [],
      "metadata": {
        "id": "h2puEC7bMyi0"
      },
      "execution_count": null,
      "outputs": []
    }
  ]
}