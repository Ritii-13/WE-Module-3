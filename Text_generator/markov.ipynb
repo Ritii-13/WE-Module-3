{
  "nbformat": 4,
  "nbformat_minor": 0,
  "metadata": {
    "colab": {
      "provenance": []
    },
    "kernelspec": {
      "name": "python3",
      "display_name": "Python 3"
    },
    "language_info": {
      "name": "python"
    }
  },
  "cells": [
    {
      "cell_type": "code",
      "execution_count": 4,
      "metadata": {
        "colab": {
          "base_uri": "https://localhost:8080/"
        },
        "id": "30k2ibhAiVOB",
        "outputId": "8f0522c3-7b4d-4f1d-aebd-a2bdd155c66e"
      },
      "outputs": [
        {
          "name": "stdout",
          "output_type": "stream",
          "text": [
            "Input text: The quick brown fox jumps over the lazy dog.\n",
            "Start word: the\n",
            "Output length: 4\n",
            "Generated text: the lazy dog.\n",
            "-----------------------------\n",
            "Input text: Python is a popular programming language.\n",
            "Start word: Python\n",
            "Output length: 2\n",
            "Generated text: Python is\n",
            "-----------------------------\n",
            "Input text: Artificial intelligence is the future.\n",
            "Start word: future\n",
            "Output length: 10\n",
            "Generated text: future\n",
            "-----------------------------\n",
            "Input text: The sun rises in the east.\n",
            "Start word: moon\n",
            "Output length: 5\n",
            "Generated text: moon\n",
            "-----------------------------\n",
            "Input text: Water is essential for life.\n",
            "Start word: water\n",
            "Output length: 7\n",
            "Generated text: water\n",
            "-----------------------------\n",
            "Enter 'quit' to exit or press Enter to continue: quit\n"
          ]
        }
      ],
      "source": [
        "import random\n",
        "\n",
        "def create_markov_chain(text):\n",
        "    words = text.split()\n",
        "    markov_chain = {}\n",
        "    for i in range(len(words) - 1):\n",
        "        current_word = words[i]\n",
        "        next_word = words[i + 1]\n",
        "        if current_word not in markov_chain:\n",
        "            markov_chain[current_word] = []\n",
        "        markov_chain[current_word].append(next_word)\n",
        "    return markov_chain\n",
        "\n",
        "def generate_next_word(markov_chain, start_word):\n",
        "    if start_word not in markov_chain:\n",
        "        return None\n",
        "    return random.choice(markov_chain[start_word])\n",
        "\n",
        "def generate_text(markov_chain, start_word, output_length):\n",
        "    generated_text = [start_word]\n",
        "    for _ in range(output_length - 1):\n",
        "        next_word = generate_next_word(markov_chain, generated_text[-1])\n",
        "        if next_word is None:\n",
        "            break\n",
        "        generated_text.append(next_word)\n",
        "    return ' '.join(generated_text)\n",
        "\n",
        "if __name__ == \"__main__\":\n",
        "    while True:\n",
        "        # Test cases\n",
        "        test_cases = [\n",
        "            (\"The quick brown fox jumps over the lazy dog.\", \"the\", 4),\n",
        "            (\"Python is a popular programming language.\", \"Python\", 2),\n",
        "            (\"Artificial intelligence is the future.\", \"future\", 10),\n",
        "            (\"The sun rises in the east.\", \"moon\", 5),  # Word not in text\n",
        "            (\"Water is essential for life.\", \"water\", 7),  # Case-insensitive match\n",
        "        ]\n",
        "\n",
        "        for text, start_word, output_length in test_cases:\n",
        "            print(\"Input text:\", text)\n",
        "            print(\"Start word:\", start_word)\n",
        "            print(\"Output length:\", output_length)\n",
        "\n",
        "            markov_chain = create_markov_chain(text)\n",
        "            generated_text = generate_text(markov_chain, start_word, output_length)\n",
        "            print(\"Generated text:\", generated_text)\n",
        "            print(\"-----------------------------\")\n",
        "\n",
        "        # Option to quit or continue\n",
        "        choice = input(\"Enter 'quit' to exit or press Enter to continue: \")\n",
        "        if choice.lower() == 'quit':\n",
        "            break\n"
      ]
    },
    {
      "cell_type": "code",
      "source": [
        "import random\n",
        "\n",
        "def create_markov_chain(text):\n",
        "    words = text.split()\n",
        "    markov_chain = {}\n",
        "    for i in range(len(words) - 1):\n",
        "        current_word = words[i]\n",
        "        next_word = words[i + 1]\n",
        "        if current_word not in markov_chain:\n",
        "            markov_chain[current_word] = []\n",
        "        markov_chain[current_word].append(next_word)\n",
        "    return markov_chain\n",
        "\n",
        "def generate_text(markov_chain, start_word, output_length):\n",
        "    generated_text = [start_word]\n",
        "    current_word = start_word\n",
        "    for _ in range(output_length - 1):\n",
        "        if current_word in markov_chain:\n",
        "            next_word = random.choice(markov_chain[current_word])\n",
        "            generated_text.append(next_word)\n",
        "            current_word = next_word\n",
        "        else:\n",
        "            break\n",
        "    return ' '.join(generated_text)\n",
        "\n",
        "def chain_length(markov_chain, word):\n",
        "    if word in markov_chain:\n",
        "        return len(markov_chain[word])\n",
        "    else:\n",
        "        return 0\n",
        "\n",
        "\n",
        "if __name__ == \"__main__\":\n",
        "    while True:\n",
        "        text = input(\"Enter input text (or 'quit' to exit): \")\n",
        "        if text.lower() == 'quit':\n",
        "            break\n",
        "\n",
        "        start_word = input(\"Enter start word: \")\n",
        "        output_length = int(input(\"Enter output length: \"))\n",
        "\n",
        "        markov_chain = create_markov_chain(text)\n",
        "        generated_text = generate_text(markov_chain, start_word, output_length)\n",
        "        print(\"Generated text:\", generated_text)\n",
        "\n",
        "        # Check chain length for the start word\n",
        "        length = chain_length(markov_chain, start_word)\n",
        "        print(\"Chain length for start word '{}': {}\".format(start_word, length))\n"
      ],
      "metadata": {
        "colab": {
          "base_uri": "https://localhost:8080/"
        },
        "id": "fePgX6kIiY8H",
        "outputId": "6ea4e8e3-0ea3-49f8-cbd8-00b08809b8b6"
      },
      "execution_count": 1,
      "outputs": [
        {
          "name": "stdout",
          "output_type": "stream",
          "text": [
            "Enter input text (or 'quit' to exit): The cat jumped over the bed. The hat is on the bed. The cat is wearing the hat. The cat is chased by the dog. The dog is eating food.\n",
            "Enter start word: cat\n",
            "Enter output length: 10\n",
            "Generated text: cat is on the hat. The cat is wearing the\n",
            "Chain length for start word 'cat': 3\n",
            "Enter input text (or 'quit' to exit): The cat jumped over the bed. The hat is on the bed. The cat is wearing the hat. The cat is chased by the dog. The dog is eating food.\n",
            "Enter start word: the\n",
            "Enter output length: 20\n",
            "Generated text: the bed. The cat jumped over the dog. The cat jumped over the hat. The hat is eating food.\n",
            "Chain length for start word 'the': 4\n",
            "Enter input text (or 'quit' to exit): quit\n"
          ]
        }
      ]
    },
    {
      "cell_type": "code",
      "source": [],
      "metadata": {
        "id": "-Tv4_byhmF7s"
      },
      "execution_count": null,
      "outputs": []
    }
  ]
}